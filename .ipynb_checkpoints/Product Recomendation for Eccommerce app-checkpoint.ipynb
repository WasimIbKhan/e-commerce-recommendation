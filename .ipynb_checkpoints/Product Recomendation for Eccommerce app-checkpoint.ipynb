{
 "cells": [
  {
   "cell_type": "markdown",
   "id": "78c10388",
   "metadata": {},
   "source": [
    "# E-commerce Recommendation System\n",
    "\n",
    "Recommendation systems are essential tools for e-commerce platforms, aiming to suggest relevant items to users based on various factors. For this notebook, we'll focus on a content-based recommendation approach, utilizing product ratings from the dataset.\n"
   ]
  },
  {
   "cell_type": "markdown",
   "id": "e55d2ccf",
   "metadata": {},
   "source": [
    "## 1. Loading and Preprocessing Data\n",
    "\n",
    "Before diving into the recommendation process, we need to load our dataset and preprocess it to ensure it's in a usable format. This step involves handling missing values and transforming data types if necessary.\n"
   ]
  },
  {
   "cell_type": "code",
   "execution_count": 1,
   "id": "152c27ba",
   "metadata": {},
   "outputs": [],
   "source": [
    "import numpy as np\n",
    "import pandas as pd\n",
    "import matplotlib.pyplot as plt\n",
    "\n",
    "# %matplotlib inline\n",
    "plt.style.use(\"ggplot\")\n",
    "\n",
    "import sklearn\n",
    "from sklearn.decomposition import TruncatedSVD"
   ]
  },
  {
   "cell_type": "code",
   "execution_count": 2,
   "id": "0558becf",
   "metadata": {
    "scrolled": true
   },
   "outputs": [
    {
     "data": {
      "text/html": [
       "<div>\n",
       "<style scoped>\n",
       "    .dataframe tbody tr th:only-of-type {\n",
       "        vertical-align: middle;\n",
       "    }\n",
       "\n",
       "    .dataframe tbody tr th {\n",
       "        vertical-align: top;\n",
       "    }\n",
       "\n",
       "    .dataframe thead th {\n",
       "        text-align: right;\n",
       "    }\n",
       "</style>\n",
       "<table border=\"1\" class=\"dataframe\">\n",
       "  <thead>\n",
       "    <tr style=\"text-align: right;\">\n",
       "      <th></th>\n",
       "      <th>product_id</th>\n",
       "      <th>product_name</th>\n",
       "      <th>category</th>\n",
       "      <th>discounted_price</th>\n",
       "      <th>actual_price</th>\n",
       "      <th>discount_percentage</th>\n",
       "      <th>rating</th>\n",
       "      <th>rating_count</th>\n",
       "      <th>about_product</th>\n",
       "      <th>user_id</th>\n",
       "      <th>user_name</th>\n",
       "      <th>review_id</th>\n",
       "      <th>review_title</th>\n",
       "      <th>review_content</th>\n",
       "      <th>img_link</th>\n",
       "      <th>product_link</th>\n",
       "    </tr>\n",
       "  </thead>\n",
       "  <tbody>\n",
       "    <tr>\n",
       "      <th>0</th>\n",
       "      <td>B07JW9H4J1</td>\n",
       "      <td>Wayona Nylon Braided USB to Lightning Fast Cha...</td>\n",
       "      <td>Computers&amp;Accessories|Accessories&amp;Peripherals|...</td>\n",
       "      <td>₹399</td>\n",
       "      <td>₹1,099</td>\n",
       "      <td>64%</td>\n",
       "      <td>4.2</td>\n",
       "      <td>24,269</td>\n",
       "      <td>High Compatibility : Compatible With iPhone 12...</td>\n",
       "      <td>AG3D6O4STAQKAY2UVGEUV46KN35Q,AHMY5CWJMMK5BJRBB...</td>\n",
       "      <td>Manav,Adarsh gupta,Sundeep,S.Sayeed Ahmed,jasp...</td>\n",
       "      <td>R3HXWT0LRP0NMF,R2AJM3LFTLZHFO,R6AQJGUP6P86,R1K...</td>\n",
       "      <td>Satisfied,Charging is really fast,Value for mo...</td>\n",
       "      <td>Looks durable Charging is fine tooNo complains...</td>\n",
       "      <td>https://m.media-amazon.com/images/W/WEBP_40237...</td>\n",
       "      <td>https://www.amazon.in/Wayona-Braided-WN3LG1-Sy...</td>\n",
       "    </tr>\n",
       "    <tr>\n",
       "      <th>1</th>\n",
       "      <td>B098NS6PVG</td>\n",
       "      <td>Ambrane Unbreakable 60W / 3A Fast Charging 1.5...</td>\n",
       "      <td>Computers&amp;Accessories|Accessories&amp;Peripherals|...</td>\n",
       "      <td>₹199</td>\n",
       "      <td>₹349</td>\n",
       "      <td>43%</td>\n",
       "      <td>4.0</td>\n",
       "      <td>43,994</td>\n",
       "      <td>Compatible with all Type C enabled devices, be...</td>\n",
       "      <td>AECPFYFQVRUWC3KGNLJIOREFP5LQ,AGYYVPDD7YG7FYNBX...</td>\n",
       "      <td>ArdKn,Nirbhay kumar,Sagar Viswanathan,Asp,Plac...</td>\n",
       "      <td>RGIQEG07R9HS2,R1SMWZQ86XIN8U,R2J3Y1WL29GWDE,RY...</td>\n",
       "      <td>A Good Braided Cable for Your Type C Device,Go...</td>\n",
       "      <td>I ordered this cable to connect my phone to An...</td>\n",
       "      <td>https://m.media-amazon.com/images/W/WEBP_40237...</td>\n",
       "      <td>https://www.amazon.in/Ambrane-Unbreakable-Char...</td>\n",
       "    </tr>\n",
       "    <tr>\n",
       "      <th>2</th>\n",
       "      <td>B096MSW6CT</td>\n",
       "      <td>Sounce Fast Phone Charging Cable &amp; Data Sync U...</td>\n",
       "      <td>Computers&amp;Accessories|Accessories&amp;Peripherals|...</td>\n",
       "      <td>₹199</td>\n",
       "      <td>₹1,899</td>\n",
       "      <td>90%</td>\n",
       "      <td>3.9</td>\n",
       "      <td>7,928</td>\n",
       "      <td>【 Fast Charger&amp; Data Sync】-With built-in safet...</td>\n",
       "      <td>AGU3BBQ2V2DDAMOAKGFAWDDQ6QHA,AESFLDV2PT363T2AQ...</td>\n",
       "      <td>Kunal,Himanshu,viswanath,sai niharka,saqib mal...</td>\n",
       "      <td>R3J3EQQ9TZI5ZJ,R3E7WBGK7ID0KV,RWU79XKQ6I1QF,R2...</td>\n",
       "      <td>Good speed for earlier versions,Good Product,W...</td>\n",
       "      <td>Not quite durable and sturdy,https://m.media-a...</td>\n",
       "      <td>https://m.media-amazon.com/images/W/WEBP_40237...</td>\n",
       "      <td>https://www.amazon.in/Sounce-iPhone-Charging-C...</td>\n",
       "    </tr>\n",
       "    <tr>\n",
       "      <th>3</th>\n",
       "      <td>B08HDJ86NZ</td>\n",
       "      <td>boAt Deuce USB 300 2 in 1 Type-C &amp; Micro USB S...</td>\n",
       "      <td>Computers&amp;Accessories|Accessories&amp;Peripherals|...</td>\n",
       "      <td>₹329</td>\n",
       "      <td>₹699</td>\n",
       "      <td>53%</td>\n",
       "      <td>4.2</td>\n",
       "      <td>94,363</td>\n",
       "      <td>The boAt Deuce USB 300 2 in 1 cable is compati...</td>\n",
       "      <td>AEWAZDZZJLQUYVOVGBEUKSLXHQ5A,AG5HTSFRRE6NL3M5S...</td>\n",
       "      <td>Omkar dhale,JD,HEMALATHA,Ajwadh a.,amar singh ...</td>\n",
       "      <td>R3EEUZKKK9J36I,R3HJVYCLYOY554,REDECAZ7AMPQC,R1...</td>\n",
       "      <td>Good product,Good one,Nice,Really nice product...</td>\n",
       "      <td>Good product,long wire,Charges good,Nice,I bou...</td>\n",
       "      <td>https://m.media-amazon.com/images/I/41V5FtEWPk...</td>\n",
       "      <td>https://www.amazon.in/Deuce-300-Resistant-Tang...</td>\n",
       "    </tr>\n",
       "    <tr>\n",
       "      <th>4</th>\n",
       "      <td>B08CF3B7N1</td>\n",
       "      <td>Portronics Konnect L 1.2M Fast Charging 3A 8 P...</td>\n",
       "      <td>Computers&amp;Accessories|Accessories&amp;Peripherals|...</td>\n",
       "      <td>₹154</td>\n",
       "      <td>₹399</td>\n",
       "      <td>61%</td>\n",
       "      <td>4.2</td>\n",
       "      <td>16,905</td>\n",
       "      <td>[CHARGE &amp; SYNC FUNCTION]- This cable comes wit...</td>\n",
       "      <td>AE3Q6KSUK5P75D5HFYHCRAOLODSA,AFUGIFH5ZAFXRDSZH...</td>\n",
       "      <td>rahuls6099,Swasat Borah,Ajay Wadke,Pranali,RVK...</td>\n",
       "      <td>R1BP4L2HH9TFUP,R16PVJEXKV6QZS,R2UPDB81N66T4P,R...</td>\n",
       "      <td>As good as original,Decent,Good one for second...</td>\n",
       "      <td>Bought this instead of original apple, does th...</td>\n",
       "      <td>https://m.media-amazon.com/images/W/WEBP_40237...</td>\n",
       "      <td>https://www.amazon.in/Portronics-Konnect-POR-1...</td>\n",
       "    </tr>\n",
       "  </tbody>\n",
       "</table>\n",
       "</div>"
      ],
      "text/plain": [
       "   product_id                                       product_name  \\\n",
       "0  B07JW9H4J1  Wayona Nylon Braided USB to Lightning Fast Cha...   \n",
       "1  B098NS6PVG  Ambrane Unbreakable 60W / 3A Fast Charging 1.5...   \n",
       "2  B096MSW6CT  Sounce Fast Phone Charging Cable & Data Sync U...   \n",
       "3  B08HDJ86NZ  boAt Deuce USB 300 2 in 1 Type-C & Micro USB S...   \n",
       "4  B08CF3B7N1  Portronics Konnect L 1.2M Fast Charging 3A 8 P...   \n",
       "\n",
       "                                            category discounted_price  \\\n",
       "0  Computers&Accessories|Accessories&Peripherals|...             ₹399   \n",
       "1  Computers&Accessories|Accessories&Peripherals|...             ₹199   \n",
       "2  Computers&Accessories|Accessories&Peripherals|...             ₹199   \n",
       "3  Computers&Accessories|Accessories&Peripherals|...             ₹329   \n",
       "4  Computers&Accessories|Accessories&Peripherals|...             ₹154   \n",
       "\n",
       "  actual_price discount_percentage rating rating_count  \\\n",
       "0       ₹1,099                 64%    4.2       24,269   \n",
       "1         ₹349                 43%    4.0       43,994   \n",
       "2       ₹1,899                 90%    3.9        7,928   \n",
       "3         ₹699                 53%    4.2       94,363   \n",
       "4         ₹399                 61%    4.2       16,905   \n",
       "\n",
       "                                       about_product  \\\n",
       "0  High Compatibility : Compatible With iPhone 12...   \n",
       "1  Compatible with all Type C enabled devices, be...   \n",
       "2  【 Fast Charger& Data Sync】-With built-in safet...   \n",
       "3  The boAt Deuce USB 300 2 in 1 cable is compati...   \n",
       "4  [CHARGE & SYNC FUNCTION]- This cable comes wit...   \n",
       "\n",
       "                                             user_id  \\\n",
       "0  AG3D6O4STAQKAY2UVGEUV46KN35Q,AHMY5CWJMMK5BJRBB...   \n",
       "1  AECPFYFQVRUWC3KGNLJIOREFP5LQ,AGYYVPDD7YG7FYNBX...   \n",
       "2  AGU3BBQ2V2DDAMOAKGFAWDDQ6QHA,AESFLDV2PT363T2AQ...   \n",
       "3  AEWAZDZZJLQUYVOVGBEUKSLXHQ5A,AG5HTSFRRE6NL3M5S...   \n",
       "4  AE3Q6KSUK5P75D5HFYHCRAOLODSA,AFUGIFH5ZAFXRDSZH...   \n",
       "\n",
       "                                           user_name  \\\n",
       "0  Manav,Adarsh gupta,Sundeep,S.Sayeed Ahmed,jasp...   \n",
       "1  ArdKn,Nirbhay kumar,Sagar Viswanathan,Asp,Plac...   \n",
       "2  Kunal,Himanshu,viswanath,sai niharka,saqib mal...   \n",
       "3  Omkar dhale,JD,HEMALATHA,Ajwadh a.,amar singh ...   \n",
       "4  rahuls6099,Swasat Borah,Ajay Wadke,Pranali,RVK...   \n",
       "\n",
       "                                           review_id  \\\n",
       "0  R3HXWT0LRP0NMF,R2AJM3LFTLZHFO,R6AQJGUP6P86,R1K...   \n",
       "1  RGIQEG07R9HS2,R1SMWZQ86XIN8U,R2J3Y1WL29GWDE,RY...   \n",
       "2  R3J3EQQ9TZI5ZJ,R3E7WBGK7ID0KV,RWU79XKQ6I1QF,R2...   \n",
       "3  R3EEUZKKK9J36I,R3HJVYCLYOY554,REDECAZ7AMPQC,R1...   \n",
       "4  R1BP4L2HH9TFUP,R16PVJEXKV6QZS,R2UPDB81N66T4P,R...   \n",
       "\n",
       "                                        review_title  \\\n",
       "0  Satisfied,Charging is really fast,Value for mo...   \n",
       "1  A Good Braided Cable for Your Type C Device,Go...   \n",
       "2  Good speed for earlier versions,Good Product,W...   \n",
       "3  Good product,Good one,Nice,Really nice product...   \n",
       "4  As good as original,Decent,Good one for second...   \n",
       "\n",
       "                                      review_content  \\\n",
       "0  Looks durable Charging is fine tooNo complains...   \n",
       "1  I ordered this cable to connect my phone to An...   \n",
       "2  Not quite durable and sturdy,https://m.media-a...   \n",
       "3  Good product,long wire,Charges good,Nice,I bou...   \n",
       "4  Bought this instead of original apple, does th...   \n",
       "\n",
       "                                            img_link  \\\n",
       "0  https://m.media-amazon.com/images/W/WEBP_40237...   \n",
       "1  https://m.media-amazon.com/images/W/WEBP_40237...   \n",
       "2  https://m.media-amazon.com/images/W/WEBP_40237...   \n",
       "3  https://m.media-amazon.com/images/I/41V5FtEWPk...   \n",
       "4  https://m.media-amazon.com/images/W/WEBP_40237...   \n",
       "\n",
       "                                        product_link  \n",
       "0  https://www.amazon.in/Wayona-Braided-WN3LG1-Sy...  \n",
       "1  https://www.amazon.in/Ambrane-Unbreakable-Char...  \n",
       "2  https://www.amazon.in/Sounce-iPhone-Charging-C...  \n",
       "3  https://www.amazon.in/Deuce-300-Resistant-Tang...  \n",
       "4  https://www.amazon.in/Portronics-Konnect-POR-1...  "
      ]
     },
     "execution_count": 2,
     "metadata": {},
     "output_type": "execute_result"
    }
   ],
   "source": [
    "amazon_sales_data = pd.read_csv('Amazon_Sales_Data.csv')\n",
    "amazon_sales_data = amazon_sales_data.dropna()\n",
    "amazon_sales_data.head()\n"
   ]
  },
  {
   "cell_type": "code",
   "execution_count": 3,
   "id": "00aaba79",
   "metadata": {},
   "outputs": [
    {
     "data": {
      "text/plain": [
       "(1463, 16)"
      ]
     },
     "execution_count": 3,
     "metadata": {},
     "output_type": "execute_result"
    }
   ],
   "source": [
    "amazon_sales_data.shape"
   ]
  },
  {
   "cell_type": "markdown",
   "id": "d0a18090",
   "metadata": {},
   "source": [
    "## 2. Basic Statistics\n",
    "\n",
    "Understanding the distribution of ratings is crucial. By calculating some basic statistics, we can get insights into the general behavior of users when rating products.\n",
    "\n",
    "- **C**: Represents the mean rating across all products. It provides an average perspective of user ratings.\n",
    "- **m**: Specifies the minimum number of ratings required for a product to be considered. Setting it at the 50th percentile ensures a balance between products with many ratings and those with few but potentially high ratings."
   ]
  },
  {
   "cell_type": "code",
   "execution_count": 4,
   "id": "7af08b44",
   "metadata": {},
   "outputs": [],
   "source": [
    "amazon_sales_data['rating'] = pd.to_numeric(amazon_sales_data['rating'], errors='coerce')"
   ]
  },
  {
   "cell_type": "code",
   "execution_count": 5,
   "id": "7c6a512b",
   "metadata": {},
   "outputs": [],
   "source": [
    "# Calculate C, the mean rating across all products\n",
    "C = amazon_sales_data['rating'].mean()\n",
    "\n",
    "# Calculate the number of ratings for the 50th percentile (you can adjust this threshold)\n",
    "m = amazon_sales_data['product_id'].value_counts().quantile(0.5)"
   ]
  },
  {
   "cell_type": "markdown",
   "id": "b9f708ee",
   "metadata": {},
   "source": [
    "## 3. Filter Products and Compute Ratings\n",
    "\n",
    "To provide effective recommendations, we prioritize products with a significant number of reviews. This approach ensures a balance between popularity and quality. In this step:\n",
    "\n",
    "- Products with fewer reviews than our threshold `m` are filtered out.\n",
    "- For the remaining products, we calculate their average rating.\n"
   ]
  },
  {
   "cell_type": "code",
   "execution_count": 6,
   "id": "e0000555",
   "metadata": {},
   "outputs": [],
   "source": [
    "# Filter out products that have a number of ratings below the threshold\n",
    "qualified_products = amazon_sales_data.groupby('product_id').filter(lambda x: len(x) >= m)\n",
    "\n",
    "# Compute the average rating and rating count for each product\n",
    "average_ratings = qualified_products.groupby('product_id')['rating'].mean()\n",
    "rating_counts = qualified_products.groupby('product_id')['rating'].count()\n"
   ]
  },
  {
   "cell_type": "markdown",
   "id": "c7e186e7",
   "metadata": {},
   "source": [
    "## 4. Calculate Weighted Ratings and Sort Products\n",
    "\n",
    "Merely using average ratings can be misleading, especially for products with fewer reviews. To counteract this, we employ a weighted rating system, which considers both the volume and the quality of the ratings.\n",
    "\n",
    "The formula ensures that products with a higher number of reviews carry more weight, preventing items with a small number of high ratings from dominating the top spots.\n"
   ]
  },
  {
   "cell_type": "code",
   "execution_count": 7,
   "id": "dcfd5156",
   "metadata": {},
   "outputs": [],
   "source": [
    "# Calculate the weighted rating for each product using the IMDb formula\n",
    "weighted_ratings = ((rating_counts / (rating_counts + m) * average_ratings) + \n",
    "                    (m / (rating_counts + m) * C))\n",
    "\n",
    "# Sort products by weighted rating in descending order\n",
    "most_popular = weighted_ratings.sort_values(ascending=False)\n"
   ]
  },
  {
   "cell_type": "markdown",
   "id": "23f64ff9",
   "metadata": {},
   "source": [
    "1. Using the IMDb weighted rating formula, we calculate a score for each product that takes into account both its average rating and the number of ratings it has received. Products with a higher number of ratings are given more weight, preventing products with very few (but potentially high) ratings from dominating the top spots.\n",
    "2. The products are then sorted by this weighted rating in descending order to get the most popular products."
   ]
  },
  {
   "cell_type": "markdown",
   "id": "67fcfc07",
   "metadata": {},
   "source": [
    "### ## 5. Display the Results\n",
    "\n",
    "With the weighted ratings calculated, we can now display the top products. The result will be a list of items that strike a balance between their average rating and the quantity of feedback they've received.\n",
    "Display the Results"
   ]
  },
  {
   "cell_type": "code",
   "execution_count": 8,
   "id": "a3548a95",
   "metadata": {},
   "outputs": [
    {
     "data": {
      "text/plain": [
       "product_id\n",
       "B0BP7XLX48    4.548358\n",
       "B09ZHCJDP1    4.548358\n",
       "B0BR4F878Q    4.448358\n",
       "B0BQ3K23Y1    4.448358\n",
       "B0B53DS4TF    4.448358\n",
       "B0B9BXKBC7    4.432239\n",
       "B09C6HXFC1    4.399179\n",
       "B0BM9H2NY9    4.398358\n",
       "B09WN3SRC7    4.398358\n",
       "B0BP89YBC1    4.398358\n",
       "Name: rating, dtype: float64"
      ]
     },
     "execution_count": 8,
     "metadata": {},
     "output_type": "execute_result"
    }
   ],
   "source": [
    "most_popular.head(10)"
   ]
  },
  {
   "cell_type": "code",
   "execution_count": 9,
   "id": "8052256b",
   "metadata": {
    "scrolled": true
   },
   "outputs": [
    {
     "data": {
      "text/plain": [
       "<Axes: xlabel='product_id'>"
      ]
     },
     "execution_count": 9,
     "metadata": {},
     "output_type": "execute_result"
    },
    {
     "data": {
      "image/png": "[encoded data removed]",
      "text/plain": [
       "<Figure size 640x480 with 1 Axes>"
      ]
     },
     "metadata": {},
     "output_type": "display_data"
    }
   ],
   "source": [
    "most_popular.head(30).plot(kind = \"bar\")"
   ]
  },
  {
   "cell_type": "markdown",
   "id": "57a8aadf",
   "metadata": {},
   "source": [
    "Finally, we display the top 10 products based on their weighted ratings and its corresponding chart, which provides a balanced recommendation based on both the quality (average rating) and quantity (number of ratings) of feedback they've received."
   ]
  },
  {
   "cell_type": "code",
   "execution_count": 10,
   "id": "ead5ee94",
   "metadata": {},
   "outputs": [
    {
     "data": {
      "image/png": "[encoded data removed]",
      "text/plain": [
       "<Figure size 1000x600 with 1 Axes>"
      ]
     },
     "metadata": {},
     "output_type": "display_data"
    }
   ],
   "source": [
    "import matplotlib.pyplot as plt\n",
    "\n",
    "# Plot\n",
    "plt.figure(figsize=(10, 6))\n",
    "amazon_sales_data['rating'].hist(bins=50, edgecolor='black')\n",
    "plt.title(\"Distribution of Ratings\")\n",
    "plt.xlabel(\"Rating\")\n",
    "plt.ylabel(\"Number of Ratings\")\n",
    "plt.grid(True)\n",
    "plt.show()\n"
   ]
  },
  {
   "cell_type": "markdown",
   "id": "88cd3f71",
   "metadata": {},
   "source": [
    "### 6. Creating a New Dataset\n",
    "After calculating the weighted ratings, we can create a new dataset based on the most popular ranking:"
   ]
  },
  {
   "cell_type": "code",
   "execution_count": 11,
   "id": "41d71694",
   "metadata": {},
   "outputs": [],
   "source": [
    "# now we aujust the products based on popularity \n",
    "most_popular_df = weighted_ratings.reset_index()\n",
    "most_popular_df.columns = ['product_id', 'weighted_rating']\n",
    "\n",
    "most_popular_products = pd.merge(most_popular_df, amazon_sales_data, on='product_id', how='left')\n",
    "most_popular_products = most_popular_products.drop_duplicates(subset='product_id')\n",
    "\n",
    "# Save the dataframe to a CSV file\n",
    "#most_popular_products.to_csv('most_popular_products.csv', index=False)\n"
   ]
  },
  {
   "cell_type": "code",
   "execution_count": 12,
   "id": "9969a813",
   "metadata": {},
   "outputs": [
    {
     "data": {
      "text/plain": [
       "(1349, 17)"
      ]
     },
     "execution_count": 12,
     "metadata": {},
     "output_type": "execute_result"
    }
   ],
   "source": [
    "most_popular_products.shape"
   ]
  },
  {
   "cell_type": "markdown",
   "id": "649fbcf1",
   "metadata": {},
   "source": [
    "## Conclusion\n",
    "\n",
    "Through this notebook, we've constructed a content-based recommendation system that suggests products based on their ratings. The weighted rating system ensures a fair balance between popularity and quality, providing users with reliable product recommendations. As the dataset grows or evolves, it would be beneficial to retrain the model to reflect the most current user preferences.\n"
   ]
  },
  {
   "cell_type": "markdown",
   "id": "e39692fb",
   "metadata": {},
   "source": [
    "## Extra\n",
    "\n",
    "After re-ranking the database of products by popularity I wanted to upload it to my mongodb database, this is how I did it"
   ]
  },
  {
   "cell_type": "code",
   "execution_count": 13,
   "id": "c86d6e6c",
   "metadata": {},
   "outputs": [],
   "source": [
    "#pip install pymongo dnspython"
   ]
  },
  {
   "cell_type": "code",
   "execution_count": 14,
   "id": "d32a2702",
   "metadata": {
    "scrolled": true
   },
   "outputs": [],
   "source": [
    "# import pymongo\n",
    "# import json\n",
    "\n",
    "#data_to_insert = most_popular_products.to_dict(orient='records')\n",
    "\n",
    "#client = pymongo.MongoClient(\"\")\n",
    "#db = client.ecommerceDB  # Access the ecommerceDB database\n",
    "#collection = db.products  # Access (or create) the products collection\n",
    "\n",
    "#collection.insert_many(data_to_insert)\n",
    "\n",
    "#client.close()\n",
    "\n"
   ]
  }
 ],
 "metadata": {
  "kernelspec": {
   "display_name": "Python 3 (ipykernel)",
   "language": "python",
   "name": "python3"
  },
  "language_info": {
   "codemirror_mode": {
    "name": "ipython",
    "version": 3
   },
   "file_extension": ".py",
   "mimetype": "text/x-python",
   "name": "python",
   "nbconvert_exporter": "python",
   "pygments_lexer": "ipython3",
   "version": "3.11.1"
  }
 },
 "nbformat": 4,
 "nbformat_minor": 5
}
