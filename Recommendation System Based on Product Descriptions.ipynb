{
 "cells": [
  {
   "cell_type": "markdown",
   "id": "2345379c",
   "metadata": {},
   "source": [
    "# Recommendation System Based on Product Descriptions\n",
    "\n",
    "In this notebook, we'll explore a content-based recommendation system that clusters products based on their descriptions. Such an approach is particularly useful for businesses without prior user-item interaction data."
   ]
  },
  {
   "cell_type": "markdown",
   "id": "9cdc3705",
   "metadata": {},
   "source": [
    "## 1. Introduction\n",
    "\n",
    "Recommendation systems aim to suggest items to users based on various factors. Traditional systems often rely on historical user-item interactions. However, for new e-commerce platforms or businesses, there's a lack of user purchase history. In such cases, we can design recommendation systems based on the content, such as product descriptions. This method clusters similar items together, allowing us to recommend products from the same cluster to users.\n"
   ]
  },
  {
   "cell_type": "markdown",
   "id": "833a7eb2",
   "metadata": {},
   "source": [
    "## 2. Textual Clustering\n",
    "\n",
    "Textual clustering is the foundation of our recommendation system. We'll group products based on the similarity of their descriptions. Products within the same cluster are considered related and can be recommended interchangeably.\n",
    "\n",
    "### Advantages of Textual Clustering:\n",
    "- **Cold Start Problem**: Useful for new platforms without user interaction data.\n",
    "- **Content Richness**: Product descriptions offer rich insights into product features, making them suitable for content-based recommendations.\n"
   ]
  },
  {
   "cell_type": "markdown",
   "id": "fc50ce3b",
   "metadata": {},
   "source": [
    "## 3. Feature Extraction - TF-IDF Vectorization\n",
    "\n",
    "To process and cluster text data, we need to convert it into a numerical format. Here, we'll use the Term Frequency-Inverse Document Frequency (TF-IDF) vectorization technique.\n",
    "\n",
    "### Understanding TF-IDF:\n",
    "- **Term Frequency (TF)**: Frequency of a word in a document.\n",
    "- **Inverse Document Frequency (IDF)**: Inverse of the frequency of the word across all documents. Words common across documents (like \"and\", \"the\") have lower IDF values.\n",
    "- **TF-IDF**: Product of TF and IDF, giving high importance to words that are frequent in a document but not across all documents.\n"
   ]
  },
  {
   "cell_type": "code",
   "execution_count": 1,
   "id": "507523db",
   "metadata": {},
   "outputs": [],
   "source": [
    "import pandas as pd\n",
    "from sklearn.feature_extraction.text import TfidfVectorizer\n",
    "\n",
    "# Load the dataset\n",
    "df = pd.read_csv('Amazon_Sales_Data.csv')\n",
    "\n",
    "# Using a subset for demonstration\n",
    "df_subset = df.head(500)\n",
    "\n",
    "# Extract features from product descriptions using TF-IDF\n",
    "vectorizer = TfidfVectorizer(stop_words='english')\n",
    "X = vectorizer.fit_transform(df_subset[\"about_product\"])\n"
   ]
  },
  {
   "cell_type": "markdown",
   "id": "f59c6da8",
   "metadata": {},
   "source": [
    "## 4. K-Means Clustering\n",
    "\n",
    "With the product descriptions vectorized, we'll use the K-Means clustering algorithm to group similar products.\n",
    "\n",
    "### How K-Means Works:\n",
    "1. **Initialization**: Choose the number of clusters (K) and initialize centroids.\n",
    "2. **Assignment**: Assign each item to the nearest centroid.\n",
    "3. **Update**: Compute the mean of all items assigned to each centroid and reset this mean as the new centroid.\n",
    "4. **Convergence**: Repeat the assignment and update steps until the centroids don't change significantly.\n",
    "\n",
    "Choosing the right number of clusters (K) is crucial. Here, we've selected K=10 for demonstration, but in practice, techniques like the elbow method can be used to find an optimal K.\n"
   ]
  },
  {
   "cell_type": "code",
   "execution_count": 2,
   "id": "49d363d8",
   "metadata": {},
   "outputs": [
    {
     "data": {
      "image/png": "[encoded data removed]",
      "text/plain": [
       "<Figure size 640x480 with 1 Axes>"
      ]
     },
     "metadata": {},
     "output_type": "display_data"
    }
   ],
   "source": [
    "from sklearn.cluster import KMeans\n",
    "import matplotlib.pyplot as plt\n",
    "\n",
    "# Applying K-Means clustering\n",
    "kmeans = KMeans(n_clusters=10, init='k-means++', max_iter=100, n_init=1)\n",
    "y_kmeans = kmeans.fit_predict(X)\n",
    "\n",
    "# Visualize the product clusters\n",
    "plt.plot(y_kmeans, \".\")\n",
    "plt.title(\"Product Clusters\")\n",
    "plt.xlabel(\"Products\")\n",
    "plt.ylabel(\"Cluster ID\")\n",
    "plt.show()\n"
   ]
  },
  {
   "cell_type": "markdown",
   "id": "cb721b1e",
   "metadata": {},
   "source": [
    "## 5. Making Recommendations\n",
    "\n",
    "Our recommendation logic is straightforward:\n",
    "1. For a given product, determine its cluster.\n",
    "2. Recommend other products from the same cluster.\n",
    "\n",
    "Let's define functions to display the characteristic terms of each cluster and to recommend products based on a given product description.\n"
   ]
  },
  {
   "cell_type": "code",
   "execution_count": 5,
   "id": "529f750a",
   "metadata": {},
   "outputs": [
    {
     "name": "stdout",
     "output_type": "stream",
     "text": [
      "Cluster 0:\n",
      "iphone, ipad, pro, plus, 12, charging, mini, 13, max, cable, \n",
      "\n",
      "Cluster 1:\n",
      "added, g7, protection, usb, improve, s10, durability, g6, g8, fraying, \n",
      "\n",
      "Cluster 2:\n",
      "hdmi, cable, male, audio, 4k, xbox, ethernet, video, supports, tv, \n",
      "\n",
      "Cluster 3:\n",
      "camera, sim, 2mp, f2, battery, display, dual, 5g, core, processor, \n",
      "\n",
      "Cluster 4:\n",
      "remote, keypad, order, quality, match, image, placing, bn59, tv, led, \n",
      "\n",
      "Cluster 5:\n",
      "watch, smartwatch, sports, health, modes, faces, boltt, calling, display, day, \n",
      "\n",
      "Cluster 6:\n",
      "usb, cable, type, charging, data, charge, speed, micro, devices, fast, \n",
      "\n",
      "Cluster 7:\n",
      "product, connect, ports, tv, installation, warranty, information, features, sound, usb, \n",
      "\n",
      "Cluster 8:\n",
      "cable, charging, usb, free, fast, design, type, data, power, devices, \n",
      "\n",
      "Cluster 9:\n",
      "remote, tv, stick, control, led, amazon, gen, compatible, batteries, mi, \n",
      "\n"
     ]
    },
    {
     "name": "stderr",
     "output_type": "stream",
     "text": [
      "C:\\Users\\wasim\\AppData\\Local\\Temp\\ipykernel_35044\\3087571147.py:15: SettingWithCopyWarning: \n",
      "A value is trying to be set on a copy of a slice from a DataFrame.\n",
      "Try using .loc[row_indexer,col_indexer] = value instead\n",
      "\n",
      "See the caveats in the documentation: https://pandas.pydata.org/pandas-docs/stable/user_guide/indexing.html#returning-a-view-versus-a-copy\n",
      "  df_subset['cluster_id'] = y_kmeans\n",
      "C:\\Users\\wasim\\AppData\\Local\\Temp\\ipykernel_35044\\3087571147.py:18: SettingWithCopyWarning: \n",
      "A value is trying to be set on a copy of a slice from a DataFrame.\n",
      "Try using .loc[row_indexer,col_indexer] = value instead\n",
      "\n",
      "See the caveats in the documentation: https://pandas.pydata.org/pandas-docs/stable/user_guide/indexing.html#returning-a-view-versus-a-copy\n",
      "  df_subset['cluster_id'] = y_kmeans\n"
     ]
    }
   ],
   "source": [
    "# Function to display top terms per cluster\n",
    "def print_cluster(i, order_centroids, terms):\n",
    "    print(f\"Cluster {i}:\")\n",
    "    for ind in order_centroids[i, :10]:\n",
    "        print(terms[ind], end=\", \")\n",
    "    print(\"\\n\")\n",
    "\n",
    "# Displaying top terms for each cluster\n",
    "order_centroids = kmeans.cluster_centers_.argsort()[:, ::-1]\n",
    "terms = vectorizer.get_feature_names_out()\n",
    "for i in range(10):\n",
    "    print_cluster(i, order_centroids, terms)\n",
    "\n",
    "# Assigning clusters to the dataframe\n",
    "df_subset['cluster_id'] = y_kmeans\n",
    "\n",
    "# Updated Recommendation function\n",
    "def show_recommendations(product):\n",
    "    Y = vectorizer.transform([product])\n",
    "    prediction = kmeans.predict(Y)\n",
    "    cluster_products = df_subset[df_subset['cluster_id'] == prediction[0]].head(5)\n",
    "    \n",
    "    print(f\"Recommended products for:\\n{product}\\n\")\n",
    "    for _, row in cluster_products.iterrows():\n",
    "        print(f\"Product ID: {row['product_id']}\")\n",
    "        print(f\"Price: {row['discounted_price']}\")\n",
    "        print(f\"Image URL: {row['img_link']}\")\n",
    "        print(f\"Description: {row['about_product']}\\n\")\n",
    "        print('-'*60)"
   ]
  },
  {
   "cell_type": "code",
   "execution_count": 6,
   "id": "06322dac",
   "metadata": {},
   "outputs": [
    {
     "name": "stdout",
     "output_type": "stream",
     "text": [
      "Recommended products for:\n",
      "hdmi cable for 4K video streaming\n",
      "\n",
      "Product ID: B07KSMBL2H\n",
      "Price: ₹219\n",
      "Image URL: https://m.media-amazon.com/images/I/41nPYaWA+ML._SY300_SX300_.jpg\n",
      "Description: Flexible, lightweight HDMI cable for connecting media devices to playback display such as HDTVs, projectors, and more|Compatible with Blu-Ray players, computers, Apple TV, Roku, cable, PS4, Xbox One, and other HDMI-compatible devices|Solid copper conductors and full metal jacket shielding for durability and high-performance connectivity|Supports Ethernet, 3D, 4K video and Audio Return Channel (ARC) and meets the latest HDMI standards|Supports bandwidth up to 18Gbps and is backwards compatible with earlier versions|Includes a 3 foot cable\n",
      "\n",
      "------------------------------------------------------------\n",
      "Product ID: B085194JFL\n",
      "Price: ₹279\n",
      "Image URL: https://m.media-amazon.com/images/W/WEBP_402378-T1/images/I/31MIyzg8uzL._SX300_SY300_QL70_FMwebp_.jpg\n",
      "Description: Superior Stability: Built-in advanced Certified AG6200 IC chip converts HDMI digital signal to VGA analog signal. It is NOT a bi-directional converter and cannot transmit signals from VGA to HDMI.|Compact Design: Tizum HDMI to VGA adapter is compact & lightweight which makes it easy to carry, travel friendly and also saves space on your desk helping it keep clutter free.|High Definition Image Quality: The HDMI male to VGA female converter supports resolution up to 1920x1080 60Hz (1080p Full HD) including 720p, 1600x1200, 1280x1024 for high definition monitors & projectors.|Wide Compatibility: The adapter is compatible with Computer, PC, Desktop, Laptop, Notebook, Chromebook, PS3, Xbox, Set Top Box, TV & other devices with HDMI port. Note: Does not Support Audio.|Incredible Performance: It resists corrosion & abrasion; improves signal transmission; & protects HDMI port of your device to ensure a longer lifespan\n",
      "\n",
      "------------------------------------------------------------\n",
      "Product ID: B01M4GGIVU\n",
      "Price: ₹199\n",
      "Image URL: https://m.media-amazon.com/images/I/41da4tk7N+L._SY300_SX300_.jpg\n",
      "Description: Latest Standard HDMI A Male to A Male Cable: Supports Ethernet, 3D, 4K video and Audio Return Channel (ARC)|Connects Blu-ray players, Fire TV, Apple TV, PS4, PS3, Xbox One, Xbox 360, Computers, DVD Players, Set Top Box, Dish TV Box, and other HDMI-enabLED devices to TVs, displays, A/V receivers and more.Suitable For Mp3, Gaming Device, Mobile, Tablet, Laptop|Cable allows you to share an Internet connection among multiple devices without the need for a separate Ethernet cable|Meets HDMI 1.4 Standards (4K Video at 24 Hz, 2160p, 48 bit/px color depth) that supports bandwidth up to 10.2Gbps and backwards compatible with earlier versions|✔ Gold Plate HDMI Cable of Length: 5 Feet/ 1.8 Meters\n",
      "\n",
      "------------------------------------------------------------\n",
      "Product ID: B014I8SSD0\n",
      "Price: ₹309\n",
      "Image URL: https://m.media-amazon.com/images/I/41bCxnHksnL._SY300_SX300_QL70_FMwebp_.jpg\n",
      "Description: Please select appropriate display resolution & refresh rate for proper display output. HDMI A Male to A Male Cable: Supports Ethernet, 3D, 4K video and Audio Return Channel (ARC)|Connects Blu-ray players, Fire TV, Apple TV, PS4, PS3, XBox one, Xbox 360, computers and other HDMI-enabled devices to TVs, displays, A/V receivers and more|Cable allows you to share an Internet connection among multiple devices without the need for a separate Ethernet cable|Meets HDMI 2.0 standards (4K Video at 60 Hz, 2160p, 48 bit/px color depth) that supports bandwidth up to 18Gbps and backwards compatible with earlier versions|Cable Length: 6 feet (1.8 meters); 1 year limited warranty\n",
      "\n",
      "------------------------------------------------------------\n",
      "Product ID: B014I8SX4Y\n",
      "Price: ₹309\n",
      "Image URL: https://m.media-amazon.com/images/I/41eJqkFjCRL._SY300_SX300_QL70_FMwebp_.jpg\n",
      "Description: HDMI A Male to A Male Cable: Supports Ethernet, 3D, 4K video and Audio Return Channel (ARC)|Connects Blu-ray players, Fire TV, Apple TV, PS4, PS3, XBox one, Xbox 360, computers and other HDMI-enabled devices to TVs, displays, A/V receivers and more|Cable allows you to share an Internet connection among multiple devices without the need for a separate Ethernet cable|Meets HDMI 2.0 standards (4K Video at 60 Hz, 2160p, 48 bit/px color depth) that supports bandwidth up to 18Gbps and backwards compatible with earlier versions|Note: Supports Max resolution of 4K@60Hz, for display issues downgrade resolution & gradually increase resolution for compatibility/display issues.|Cable Length: 6 feet (1.8 meters) - 2 units; 1 year limited warranty\n",
      "\n",
      "------------------------------------------------------------\n"
     ]
    }
   ],
   "source": [
    "# You can replace the argument with any product description from your dataset\n",
    "show_recommendations(\"hdmi cable for 4K video streaming\")"
   ]
  },
  {
   "cell_type": "markdown",
   "id": "566ce4d8",
   "metadata": {},
   "source": [
    "## 6. Conclusion\n",
    "\n",
    "We've implemented a content-based recommendation system\n"
   ]
  },
  {
   "cell_type": "code",
   "execution_count": null,
   "id": "4d91a032",
   "metadata": {},
   "outputs": [],
   "source": []
  }
 ],
 "metadata": {
  "kernelspec": {
   "display_name": "Python 3 (ipykernel)",
   "language": "python",
   "name": "python3"
  },
  "language_info": {
   "codemirror_mode": {
    "name": "ipython",
    "version": 3
   },
   "file_extension": ".py",
   "mimetype": "text/x-python",
   "name": "python",
   "nbconvert_exporter": "python",
   "pygments_lexer": "ipython3",
   "version": "3.11.1"
  }
 },
 "nbformat": 4,
 "nbformat_minor": 5
}
